{
 "cells": [
  {
   "cell_type": "markdown",
   "metadata": {},
   "source": [
    "# Using Athena in Jupyter notebook\n",
    "\n",
    "In the previous [notebook](loading-to-athena.ipynb), we setup our data in Athena.  In this section, we will query the data via Jupyter notebook.  This will allow us to leverage Python's data query and analysis package for data exploration and analysis.  To connect our Athena instance, we will the [pyathenajdbc](https://pypi.org/project/PyAthenaJDBC/) module."
   ]
  },
  {
   "cell_type": "code",
   "execution_count": 21,
   "metadata": {},
   "outputs": [],
   "source": [
    "import contextlib\n",
    "from pyathenajdbc import connect\n",
    "from pyathenajdbc.util import as_pandas\n",
    "import matplotlib.pyplot as plt\n",
    "import pandas as pd\n",
    "from functools import reduce"
   ]
  },
  {
   "cell_type": "markdown",
   "metadata": {},
   "source": [
    "### Connect to Athena  \n",
    "\n",
    "* Create a file containing your AWS credentials and save it `.creds/AWSCredentials.properties`. \n",
    "* The `AWSCredentials.properties` should contain the following:\n",
    "\n",
    "```\n",
    "[default]\n",
    "accessKey:YourAccessKey\n",
    "secretKey:YourSecretKey\n",
    "```\n",
    "\n",
    "* More info about AWS Credentials in the [AWS guides](https://docs.aws.amazon.com/general/latest/gr/aws-security-credentials.html)."
   ]
  },
  {
   "cell_type": "code",
   "execution_count": 4,
   "metadata": {},
   "outputs": [
    {
     "name": "stdout",
     "output_type": "stream",
     "text": [
      "CPU times: user 3.66 s, sys: 569 ms, total: 4.23 s\n",
      "Wall time: 7.64 s\n"
     ]
    }
   ],
   "source": [
    "%%time\n",
    "conn = connect(credential_file='.creds/AWSCredentials.properties',\n",
    "               s3_staging_dir='s3://dostsensor-db/',\n",
    "               region_name='us-east-1')"
   ]
  },
  {
   "cell_type": "markdown",
   "metadata": {},
   "source": [
    "### Query data from Athena\n",
    "\n",
    "Now that we are connected to Athena, we can start running simple queries and execute basic analysis.  We do this by creating standard SQL and load them as Pandas dataframes.  Let's start by counting all rows of each sensors available in Athena aggregated by week."
   ]
  },
  {
   "cell_type": "code",
   "execution_count": 5,
   "metadata": {},
   "outputs": [
    {
     "name": "stdout",
     "output_type": "stream",
     "text": [
      "CPU times: user 821 ms, sys: 85.9 ms, total: 907 ms\n",
      "Wall time: 27.1 s\n"
     ]
    }
   ],
   "source": [
    "%%time\n",
    "asg = pd.read_sql(\"\"\"SELECT date_trunc('week', cast(time as timestamp)) as period, count(distinct(name)) as asg\n",
    "                  FROM dostsensor.asg\n",
    "                  GROUP BY 1\n",
    "                  ORDER by 1 DESC;\n",
    "                  \"\"\", conn)"
   ]
  },
  {
   "cell_type": "code",
   "execution_count": 6,
   "metadata": {},
   "outputs": [
    {
     "name": "stdout",
     "output_type": "stream",
     "text": [
      "CPU times: user 863 ms, sys: 78.5 ms, total: 941 ms\n",
      "Wall time: 53.1 s\n"
     ]
    }
   ],
   "source": [
    "%%time\n",
    "arg = pd.read_sql(\"\"\"\n",
    "                  SELECT date_trunc('week', cast(time as timestamp)) as period, count(distinct(name)) as arg\n",
    "                  FROM dostsensor.arg\n",
    "                  GROUP BY 1\n",
    "                  ORDER by 1 DESC;\n",
    "                  \"\"\", conn)"
   ]
  },
  {
   "cell_type": "code",
   "execution_count": 7,
   "metadata": {},
   "outputs": [
    {
     "name": "stdout",
     "output_type": "stream",
     "text": [
      "CPU times: user 298 ms, sys: 27.5 ms, total: 325 ms\n",
      "Wall time: 11.4 s\n"
     ]
    }
   ],
   "source": [
    "%%time\n",
    "aws = pd.read_sql(\"\"\"\n",
    "                  SELECT date_trunc('week', cast(time as timestamp)) as period, count(distinct(name)) as aws\n",
    "                  FROM dostsensor.aws\n",
    "                  GROUP BY 1\n",
    "                  ORDER by 1 DESC;\n",
    "                  \"\"\", conn)"
   ]
  },
  {
   "cell_type": "code",
   "execution_count": 8,
   "metadata": {},
   "outputs": [
    {
     "name": "stdout",
     "output_type": "stream",
     "text": [
      "CPU times: user 390 ms, sys: 50.5 ms, total: 440 ms\n",
      "Wall time: 40.4 s\n"
     ]
    }
   ],
   "source": [
    "%%time\n",
    "td = pd.read_sql(\"\"\"\n",
    "                  SELECT date_trunc('week', cast(time as timestamp)) as period, count(distinct(name)) as td\n",
    "                  FROM dostsensor.td\n",
    "                  GROUP BY 1\n",
    "                  ORDER by 1 DESC\n",
    "                  \"\"\", conn)"
   ]
  },
  {
   "cell_type": "markdown",
   "metadata": {},
   "source": [
    "### Merge all dataframes and display the plot"
   ]
  },
  {
   "cell_type": "code",
   "execution_count": 9,
   "metadata": {},
   "outputs": [
    {
     "data": {
      "text/html": [
       "<div>\n",
       "<style scoped>\n",
       "    .dataframe tbody tr th:only-of-type {\n",
       "        vertical-align: middle;\n",
       "    }\n",
       "\n",
       "    .dataframe tbody tr th {\n",
       "        vertical-align: top;\n",
       "    }\n",
       "\n",
       "    .dataframe thead th {\n",
       "        text-align: right;\n",
       "    }\n",
       "</style>\n",
       "<table border=\"1\" class=\"dataframe\">\n",
       "  <thead>\n",
       "    <tr style=\"text-align: right;\">\n",
       "      <th></th>\n",
       "      <th>arg</th>\n",
       "      <th>asg</th>\n",
       "      <th>aws</th>\n",
       "      <th>td</th>\n",
       "    </tr>\n",
       "  </thead>\n",
       "  <tbody>\n",
       "    <tr>\n",
       "      <th>count</th>\n",
       "      <td>109.000000</td>\n",
       "      <td>108.000000</td>\n",
       "      <td>106.000000</td>\n",
       "      <td>101.0</td>\n",
       "    </tr>\n",
       "    <tr>\n",
       "      <th>mean</th>\n",
       "      <td>511.302752</td>\n",
       "      <td>269.379630</td>\n",
       "      <td>99.716981</td>\n",
       "      <td>274.0</td>\n",
       "    </tr>\n",
       "    <tr>\n",
       "      <th>std</th>\n",
       "      <td>181.002277</td>\n",
       "      <td>89.704991</td>\n",
       "      <td>36.579139</td>\n",
       "      <td>0.0</td>\n",
       "    </tr>\n",
       "    <tr>\n",
       "      <th>min</th>\n",
       "      <td>1.000000</td>\n",
       "      <td>1.000000</td>\n",
       "      <td>1.000000</td>\n",
       "      <td>274.0</td>\n",
       "    </tr>\n",
       "    <tr>\n",
       "      <th>25%</th>\n",
       "      <td>449.000000</td>\n",
       "      <td>229.000000</td>\n",
       "      <td>71.500000</td>\n",
       "      <td>274.0</td>\n",
       "    </tr>\n",
       "    <tr>\n",
       "      <th>50%</th>\n",
       "      <td>552.000000</td>\n",
       "      <td>289.500000</td>\n",
       "      <td>104.500000</td>\n",
       "      <td>274.0</td>\n",
       "    </tr>\n",
       "    <tr>\n",
       "      <th>75%</th>\n",
       "      <td>663.000000</td>\n",
       "      <td>340.250000</td>\n",
       "      <td>131.000000</td>\n",
       "      <td>274.0</td>\n",
       "    </tr>\n",
       "    <tr>\n",
       "      <th>max</th>\n",
       "      <td>686.000000</td>\n",
       "      <td>421.000000</td>\n",
       "      <td>187.000000</td>\n",
       "      <td>274.0</td>\n",
       "    </tr>\n",
       "  </tbody>\n",
       "</table>\n",
       "</div>"
      ],
      "text/plain": [
       "              arg         asg         aws     td\n",
       "count  109.000000  108.000000  106.000000  101.0\n",
       "mean   511.302752  269.379630   99.716981  274.0\n",
       "std    181.002277   89.704991   36.579139    0.0\n",
       "min      1.000000    1.000000    1.000000  274.0\n",
       "25%    449.000000  229.000000   71.500000  274.0\n",
       "50%    552.000000  289.500000  104.500000  274.0\n",
       "75%    663.000000  340.250000  131.000000  274.0\n",
       "max    686.000000  421.000000  187.000000  274.0"
      ]
     },
     "execution_count": 9,
     "metadata": {},
     "output_type": "execute_result"
    }
   ],
   "source": [
    "data_frames = [arg, asg, aws, td]\n",
    "count_merged = reduce(lambda  left,right: pd.merge(left,right,on=['period'],\n",
    "                                            how='outer'), data_frames)\n",
    "count_merged.describe()\n"
   ]
  },
  {
   "cell_type": "code",
   "execution_count": 10,
   "metadata": {},
   "outputs": [],
   "source": [
    "# Index data by timestamp (period)\n",
    "\n",
    "count_merged['period'] = pd.to_datetime(count_merged['period'])\n",
    "count_merged = count_merged.set_index(['period'])"
   ]
  },
  {
   "cell_type": "code",
   "execution_count": 22,
   "metadata": {},
   "outputs": [
    {
     "data": {
      "text/plain": [
       "<matplotlib.axes._subplots.AxesSubplot at 0x12ea30ac8>"
      ]
     },
     "execution_count": 22,
     "metadata": {},
     "output_type": "execute_result"
    },
    {
     "data": {
      "image/png": "[encoded data removed]",
      "text/plain": [
       "<Figure size 1440x360 with 1 Axes>"
      ]
     },
     "metadata": {},
     "output_type": "display_data"
    }
   ],
   "source": [
    "# Plot record count by sensor type.\n",
    "\n",
    "count_merged.plot(drawstyle=\"steps-post\", figsize=(20,5))"
   ]
  },
  {
   "cell_type": "markdown",
   "metadata": {},
   "source": [
    "The most number of records came from the `arg` sensor.  For the years 2103-2014, DOST have installed a lot of `arg` sensors in response to the active DRR initiatives across the country.  \n",
    "\n",
    "There are sporadic dips in our records maybe attributed to either downtime of the NOAH API or the logging instance we used to collect this data.  To be able to do time depedent analysis we should consider these gaps."
   ]
  },
  {
   "cell_type": "markdown",
   "metadata": {},
   "source": [
    "### Get data for specific stations\n",
    "\n",
    "Let's look at the data for all water level monitoring stations (asg) on major tributaries of the Marikina river.  We will aggregate the data average by day."
   ]
  },
  {
   "cell_type": "code",
   "execution_count": 12,
   "metadata": {},
   "outputs": [
    {
     "name": "stdout",
     "output_type": "stream",
     "text": [
      "CPU times: user 1.97 s, sys: 58.6 ms, total: 2.03 s\n",
      "Wall time: 16.9 s\n"
     ]
    }
   ],
   "source": [
    "%%time\n",
    "marikina_wl = pd.read_sql(\"\"\"\n",
    "                  SELECT date_trunc('day', cast(time as timestamp)) as period, name, AVG(value) as value\n",
    "                  FROM dostsensor.asg\n",
    "                  WHERE name IN (\n",
    "                  'metromanilastoninoastimarikinacity_wl',\n",
    "                  'metromanilastonino_wl',\n",
    "                  'metromanilatumana_wl',\n",
    "                  'metromanilanangka_wl',\n",
    "                  'metromanilatumanamarikinacity_wl',\n",
    "                  'metromanilamodestabridgebrgyfortunemarikinacity_wl',\n",
    "                  'rizalmontalban_wl')\n",
    "                  GROUP BY 1,2\n",
    "                  ORDER BY 1 DESC\n",
    "                  \"\"\", conn)"
   ]
  },
  {
   "cell_type": "code",
   "execution_count": 13,
   "metadata": {},
   "outputs": [
    {
     "data": {
      "text/html": [
       "<div>\n",
       "<style scoped>\n",
       "    .dataframe tbody tr th:only-of-type {\n",
       "        vertical-align: middle;\n",
       "    }\n",
       "\n",
       "    .dataframe tbody tr th {\n",
       "        vertical-align: top;\n",
       "    }\n",
       "\n",
       "    .dataframe thead th {\n",
       "        text-align: right;\n",
       "    }\n",
       "</style>\n",
       "<table border=\"1\" class=\"dataframe\">\n",
       "  <thead>\n",
       "    <tr style=\"text-align: right;\">\n",
       "      <th></th>\n",
       "      <th>name</th>\n",
       "      <th>value</th>\n",
       "    </tr>\n",
       "    <tr>\n",
       "      <th>period</th>\n",
       "      <th></th>\n",
       "      <th></th>\n",
       "    </tr>\n",
       "  </thead>\n",
       "  <tbody>\n",
       "    <tr>\n",
       "      <th>2015-08-31</th>\n",
       "      <td>metromanilamodestabridgebrgyfortunemarikinacit...</td>\n",
       "      <td>27.610794</td>\n",
       "    </tr>\n",
       "    <tr>\n",
       "      <th>2015-08-31</th>\n",
       "      <td>metromanilatumanamarikinacity_wl</td>\n",
       "      <td>13.446250</td>\n",
       "    </tr>\n",
       "    <tr>\n",
       "      <th>2015-08-30</th>\n",
       "      <td>metromanilastoninoastimarikinacity_wl</td>\n",
       "      <td>13.082692</td>\n",
       "    </tr>\n",
       "    <tr>\n",
       "      <th>2015-08-30</th>\n",
       "      <td>metromanilatumanamarikinacity_wl</td>\n",
       "      <td>13.395082</td>\n",
       "    </tr>\n",
       "    <tr>\n",
       "      <th>2015-08-30</th>\n",
       "      <td>metromanilamodestabridgebrgyfortunemarikinacit...</td>\n",
       "      <td>27.864667</td>\n",
       "    </tr>\n",
       "  </tbody>\n",
       "</table>\n",
       "</div>"
      ],
      "text/plain": [
       "                                                         name      value\n",
       "period                                                                  \n",
       "2015-08-31  metromanilamodestabridgebrgyfortunemarikinacit...  27.610794\n",
       "2015-08-31                   metromanilatumanamarikinacity_wl  13.446250\n",
       "2015-08-30              metromanilastoninoastimarikinacity_wl  13.082692\n",
       "2015-08-30                   metromanilatumanamarikinacity_wl  13.395082\n",
       "2015-08-30  metromanilamodestabridgebrgyfortunemarikinacit...  27.864667"
      ]
     },
     "execution_count": 13,
     "metadata": {},
     "output_type": "execute_result"
    }
   ],
   "source": [
    "# Index data by day (period)\n",
    "\n",
    "marikina_wl['period'] = pd.to_datetime(marikina_wl['period'])\n",
    "marikina_wl1 = marikina_wl.set_index(['period'])\n",
    "marikina_wl1.head()"
   ]
  },
  {
   "cell_type": "code",
   "execution_count": 23,
   "metadata": {},
   "outputs": [
    {
     "data": {
      "text/plain": [
       "<matplotlib.legend.Legend at 0x12b041c50>"
      ]
     },
     "execution_count": 23,
     "metadata": {},
     "output_type": "execute_result"
    },
    {
     "data": {
      "image/png": "[encoded data removed]",
      "text/plain": [
       "<Figure size 1440x360 with 1 Axes>"
      ]
     },
     "metadata": {},
     "output_type": "display_data"
    }
   ],
   "source": [
    "# Plot record count by station.\n",
    "\n",
    "fig, ax = plt.subplots(figsize=(20,5))\n",
    "for label, df in marikina_wl1.groupby('name'):\n",
    "    df.value.plot(ax=ax, label=label, drawstyle=\"steps-post\")\n",
    "plt.legend(loc=4)"
   ]
  },
  {
   "cell_type": "markdown",
   "metadata": {},
   "source": [
    "There are several periods when waterlevels increased significantly (Sep 2013, Aug 2014, Sep-Oct 2014, Aug 2105).  These events are attributed to the annual southwest monsoon cycle locally known as Habagat."
   ]
  },
  {
   "cell_type": "markdown",
   "metadata": {},
   "source": [
    "In this section, we connected Athena to Jupyter notebook and was able to run basic data query and plots.  In the next section, we will explore how we can use the data for in-depth data analysis of rainfall and its effects on stream water levels."
   ]
  }
 ],
 "metadata": {
  "kernelspec": {
   "display_name": "Python 3",
   "language": "python",
   "name": "python3"
  },
  "language_info": {
   "codemirror_mode": {
    "name": "ipython",
    "version": 3
   },
   "file_extension": ".py",
   "mimetype": "text/x-python",
   "name": "python",
   "nbconvert_exporter": "python",
   "pygments_lexer": "ipython3",
   "version": "3.6.5"
  }
 },
 "nbformat": 4,
 "nbformat_minor": 2
}
